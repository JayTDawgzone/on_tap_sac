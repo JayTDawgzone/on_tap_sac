{
 "cells": [
  {
   "cell_type": "code",
   "execution_count": 4,
   "metadata": {},
   "outputs": [],
   "source": [
    "import pandas as pd\n",
    "import numpy as np\n",
    "import pymongo\n",
    "import dns\n",
    "import datetime as dt"
   ]
  },
  {
   "cell_type": "code",
   "execution_count": 5,
   "metadata": {},
   "outputs": [],
   "source": [
    "coordinates_file = '../data/coordinates.csv'\n",
    "data_file = '../data/raw_data.xlsx'"
   ]
  },
  {
   "cell_type": "code",
   "execution_count": 6,
   "metadata": {},
   "outputs": [],
   "source": [
    "data = pd.read_excel(data_file)\n",
    "coordinates = pd.read_csv(coordinates_file)"
   ]
  },
  {
   "cell_type": "code",
   "execution_count": 14,
   "metadata": {},
   "outputs": [],
   "source": [
    "username = 'Terra925'\n",
    "password = 'H%40mmond271'\n",
    "conn = 'mongodb+srv://' + username +':' + password + '@cluster0-paegd.mongodb.net/test?retryWrites=true&w=majority'\n",
    "client = pymongo.MongoClient(conn)\n",
    "db = client['beer_db']\n"
   ]
  },
  {
   "cell_type": "code",
   "execution_count": 7,
   "metadata": {},
   "outputs": [],
   "source": [
    "data.drop(['ServiceCenter', 'Zone', 'AccNumber', 'SystemName', 'StationName', 'TowerID', 'TowerSortOrder', 'FaucetCount', 'Distributor', 'Technician', 'DayOfService', 'TripTitle','TripCancelReason'], axis=1,inplace=True)"
   ]
  },
  {
   "cell_type": "code",
   "execution_count": 8,
   "metadata": {},
   "outputs": [],
   "source": [
    "coordinates.columns.values[0] = \"LocationID\""
   ]
  },
  {
   "cell_type": "code",
   "execution_count": 9,
   "metadata": {},
   "outputs": [],
   "source": [
    "merge = pd.merge(data, coordinates, how='left', on='LocationID')"
   ]
  },
  {
   "cell_type": "code",
   "execution_count": null,
   "metadata": {},
   "outputs": [],
   "source": []
  },
  {
   "cell_type": "code",
   "execution_count": 10,
   "metadata": {},
   "outputs": [],
   "source": [
    "merge.dropna(inplace=True)"
   ]
  },
  {
   "cell_type": "code",
   "execution_count": 11,
   "metadata": {},
   "outputs": [],
   "source": [
    "merge['Location'] = merge['Location'].str.replace('.','')\n",
    "merge['BreweryName'] = merge['BreweryName'].str.replace('.','')\n",
    "merge['Address'] = merge['Address'].str.replace('.','')\n",
    "merge['BrandName'] = merge['BrandName'].str.replace('.','')\n",
    "merge['Location'] = merge['Location'].str.replace('2M - ','')\n",
    "merge['Location'] = merge['Location'].str.replace('NP - ','')\n",
    "merge['Location'] = merge['Location'].str.replace('OOB - ','')\n",
    "merge['Location'] = merge['Location'].str.replace('Duplicate - ','')\n",
    "merge['Location'] = merge['Location'].str.replace('BO - ','')\n",
    "merge['Location'] = merge['Location'].str.replace('TC - ','')\n",
    "merge['Location'] = merge['Location'].str.replace('Seasonal - ','')"
   ]
  },
  {
   "cell_type": "code",
   "execution_count": 12,
   "metadata": {},
   "outputs": [
    {
     "data": {
      "text/html": [
       "<div>\n",
       "<style scoped>\n",
       "    .dataframe tbody tr th:only-of-type {\n",
       "        vertical-align: middle;\n",
       "    }\n",
       "\n",
       "    .dataframe tbody tr th {\n",
       "        vertical-align: top;\n",
       "    }\n",
       "\n",
       "    .dataframe thead th {\n",
       "        text-align: right;\n",
       "    }\n",
       "</style>\n",
       "<table border=\"1\" class=\"dataframe\">\n",
       "  <thead>\n",
       "    <tr style=\"text-align: right;\">\n",
       "      <th></th>\n",
       "      <th>LocationID</th>\n",
       "      <th>Location</th>\n",
       "      <th>Address</th>\n",
       "      <th>City</th>\n",
       "      <th>ZIP</th>\n",
       "      <th>state</th>\n",
       "      <th>BrandName</th>\n",
       "      <th>BreweryName</th>\n",
       "      <th>Active Recurring Trip</th>\n",
       "      <th>Service Location - Description</th>\n",
       "      <th>Service Location - Address Line 1</th>\n",
       "      <th>Service Location - City</th>\n",
       "      <th>Service Location - Postal Code</th>\n",
       "      <th>Service Location - State</th>\n",
       "      <th>Latitude</th>\n",
       "      <th>Longitude</th>\n",
       "    </tr>\n",
       "  </thead>\n",
       "  <tbody>\n",
       "    <tr>\n",
       "      <th>178</th>\n",
       "      <td>2997</td>\n",
       "      <td>19 Handles (Sacramento/Arden)</td>\n",
       "      <td>4235 Arden Way</td>\n",
       "      <td>Sacramento</td>\n",
       "      <td>95864.0</td>\n",
       "      <td>CA</td>\n",
       "      <td>Alaskan Hopothermia</td>\n",
       "      <td>Alaskan Brewing Co</td>\n",
       "      <td>1</td>\n",
       "      <td>19 Handles (Sacramento/Arden)</td>\n",
       "      <td>4235 Arden Way</td>\n",
       "      <td>Sacramento</td>\n",
       "      <td>95864.0</td>\n",
       "      <td>CA</td>\n",
       "      <td>38.595658</td>\n",
       "      <td>-121.365601</td>\n",
       "    </tr>\n",
       "    <tr>\n",
       "      <th>179</th>\n",
       "      <td>2997</td>\n",
       "      <td>19 Handles (Sacramento/Arden)</td>\n",
       "      <td>4235 Arden Way</td>\n",
       "      <td>Sacramento</td>\n",
       "      <td>95864.0</td>\n",
       "      <td>CA</td>\n",
       "      <td>Anderson Valley Boont Amber Ale</td>\n",
       "      <td>Anderson Valley</td>\n",
       "      <td>1</td>\n",
       "      <td>19 Handles (Sacramento/Arden)</td>\n",
       "      <td>4235 Arden Way</td>\n",
       "      <td>Sacramento</td>\n",
       "      <td>95864.0</td>\n",
       "      <td>CA</td>\n",
       "      <td>38.595658</td>\n",
       "      <td>-121.365601</td>\n",
       "    </tr>\n",
       "    <tr>\n",
       "      <th>180</th>\n",
       "      <td>2997</td>\n",
       "      <td>19 Handles (Sacramento/Arden)</td>\n",
       "      <td>4235 Arden Way</td>\n",
       "      <td>Sacramento</td>\n",
       "      <td>95864.0</td>\n",
       "      <td>CA</td>\n",
       "      <td>Angry Orchard</td>\n",
       "      <td>Boston Beer Co</td>\n",
       "      <td>1</td>\n",
       "      <td>19 Handles (Sacramento/Arden)</td>\n",
       "      <td>4235 Arden Way</td>\n",
       "      <td>Sacramento</td>\n",
       "      <td>95864.0</td>\n",
       "      <td>CA</td>\n",
       "      <td>38.595658</td>\n",
       "      <td>-121.365601</td>\n",
       "    </tr>\n",
       "    <tr>\n",
       "      <th>181</th>\n",
       "      <td>2997</td>\n",
       "      <td>19 Handles (Sacramento/Arden)</td>\n",
       "      <td>4235 Arden Way</td>\n",
       "      <td>Sacramento</td>\n",
       "      <td>95864.0</td>\n",
       "      <td>CA</td>\n",
       "      <td>Ballast Point Sculpin IPA</td>\n",
       "      <td>Constellation Brands</td>\n",
       "      <td>1</td>\n",
       "      <td>19 Handles (Sacramento/Arden)</td>\n",
       "      <td>4235 Arden Way</td>\n",
       "      <td>Sacramento</td>\n",
       "      <td>95864.0</td>\n",
       "      <td>CA</td>\n",
       "      <td>38.595658</td>\n",
       "      <td>-121.365601</td>\n",
       "    </tr>\n",
       "    <tr>\n",
       "      <th>182</th>\n",
       "      <td>2997</td>\n",
       "      <td>19 Handles (Sacramento/Arden)</td>\n",
       "      <td>4235 Arden Way</td>\n",
       "      <td>Sacramento</td>\n",
       "      <td>95864.0</td>\n",
       "      <td>CA</td>\n",
       "      <td>Bear Republic Thru The Haze</td>\n",
       "      <td>Bear Republic Brewing Co</td>\n",
       "      <td>1</td>\n",
       "      <td>19 Handles (Sacramento/Arden)</td>\n",
       "      <td>4235 Arden Way</td>\n",
       "      <td>Sacramento</td>\n",
       "      <td>95864.0</td>\n",
       "      <td>CA</td>\n",
       "      <td>38.595658</td>\n",
       "      <td>-121.365601</td>\n",
       "    </tr>\n",
       "  </tbody>\n",
       "</table>\n",
       "</div>"
      ],
      "text/plain": [
       "     LocationID                       Location         Address        City  \\\n",
       "178        2997  19 Handles (Sacramento/Arden)  4235 Arden Way  Sacramento   \n",
       "179        2997  19 Handles (Sacramento/Arden)  4235 Arden Way  Sacramento   \n",
       "180        2997  19 Handles (Sacramento/Arden)  4235 Arden Way  Sacramento   \n",
       "181        2997  19 Handles (Sacramento/Arden)  4235 Arden Way  Sacramento   \n",
       "182        2997  19 Handles (Sacramento/Arden)  4235 Arden Way  Sacramento   \n",
       "\n",
       "         ZIP state                        BrandName               BreweryName  \\\n",
       "178  95864.0    CA              Alaskan Hopothermia        Alaskan Brewing Co   \n",
       "179  95864.0    CA  Anderson Valley Boont Amber Ale           Anderson Valley   \n",
       "180  95864.0    CA                    Angry Orchard            Boston Beer Co   \n",
       "181  95864.0    CA        Ballast Point Sculpin IPA      Constellation Brands   \n",
       "182  95864.0    CA      Bear Republic Thru The Haze  Bear Republic Brewing Co   \n",
       "\n",
       "     Active Recurring Trip  Service Location - Description  \\\n",
       "178                      1   19 Handles (Sacramento/Arden)   \n",
       "179                      1   19 Handles (Sacramento/Arden)   \n",
       "180                      1   19 Handles (Sacramento/Arden)   \n",
       "181                      1   19 Handles (Sacramento/Arden)   \n",
       "182                      1   19 Handles (Sacramento/Arden)   \n",
       "\n",
       "     Service Location - Address Line 1  Service Location - City  \\\n",
       "178                     4235 Arden Way               Sacramento   \n",
       "179                     4235 Arden Way               Sacramento   \n",
       "180                     4235 Arden Way               Sacramento   \n",
       "181                     4235 Arden Way               Sacramento   \n",
       "182                     4235 Arden Way               Sacramento   \n",
       "\n",
       "      Service Location - Postal Code  Service Location - State   Latitude  \\\n",
       "178                          95864.0                        CA  38.595658   \n",
       "179                          95864.0                        CA  38.595658   \n",
       "180                          95864.0                        CA  38.595658   \n",
       "181                          95864.0                        CA  38.595658   \n",
       "182                          95864.0                        CA  38.595658   \n",
       "\n",
       "      Longitude  \n",
       "178 -121.365601  \n",
       "179 -121.365601  \n",
       "180 -121.365601  \n",
       "181 -121.365601  \n",
       "182 -121.365601  "
      ]
     },
     "execution_count": 12,
     "metadata": {},
     "output_type": "execute_result"
    }
   ],
   "source": [
    "merge.head()"
   ]
  },
  {
   "cell_type": "code",
   "execution_count": 13,
   "metadata": {},
   "outputs": [
    {
     "data": {
      "text/plain": [
       "1591"
      ]
     },
     "execution_count": 13,
     "metadata": {},
     "output_type": "execute_result"
    }
   ],
   "source": [
    "unique_id = merge['LocationID'].unique()\n",
    "len(unique_id)"
   ]
  },
  {
   "cell_type": "code",
   "execution_count": 46,
   "metadata": {},
   "outputs": [],
   "source": [
    "collection = db['accounts']\n",
    "date = dt.datetime.now().strftime('%x')\n",
    "\n",
    "\n",
    "for x in unique_id:\n",
    "    df = merge[merge['LocationID'] == x]\n",
    "    obj = {\n",
    "        'date': str(date),\n",
    "        'id':int(df['LocationID'].iloc[0]),\n",
    "        'location':str(df['Location'].iloc[0]),\n",
    "        'address':str(df['Address'].iloc[0]),\n",
    "        'city':str(df['City'].iloc[0]),\n",
    "        'zipcode':int(df['ZIP'].iloc[0]),\n",
    "        'state':str(df['state'].iloc[0]),\n",
    "        'lat':float(df[' Latitude'].iloc[0]),\n",
    "        'lng':float(df[' Longitude'].iloc[0]),\n",
    "        'taps': []\n",
    "    }\n",
    "    for index, row in df.iterrows():\n",
    "        taps = {row['BreweryName']: row['BrandName']}\n",
    "        obj['taps'].append(taps)\n",
    "\n",
    "    id = collection.insert_one(obj).inserted_id"
   ]
  },
  {
   "cell_type": "code",
   "execution_count": 47,
   "metadata": {},
   "outputs": [
    {
     "data": {
      "text/plain": [
       "'Coors Light'"
      ]
     },
     "execution_count": 47,
     "metadata": {},
     "output_type": "execute_result"
    }
   ],
   "source": [
    "popular_tap = merge.groupby('BrandName')['LocationID'].count().reset_index()\n",
    "popular_tap = popular_tap.sort_values(by='LocationID', ascending=False)['BrandName'].iloc[0]\n",
    "popular_tap"
   ]
  },
  {
   "cell_type": "code",
   "execution_count": 48,
   "metadata": {},
   "outputs": [
    {
     "data": {
      "text/plain": [
       "'Anheuser-Busch InBev Inc'"
      ]
     },
     "execution_count": 48,
     "metadata": {},
     "output_type": "execute_result"
    }
   ],
   "source": [
    "popular_brewery = merge.groupby('BreweryName')['LocationID'].count().reset_index()\n",
    "popular_brewery = popular_brewery.sort_values(by='LocationID', ascending=False)['BreweryName'].iloc[0]\n",
    "popular_brewery"
   ]
  },
  {
   "cell_type": "code",
   "execution_count": 49,
   "metadata": {},
   "outputs": [],
   "source": [
    "unique_taps = merge['BrandName'].unique()"
   ]
  },
  {
   "cell_type": "code",
   "execution_count": 51,
   "metadata": {
    "scrolled": true
   },
   "outputs": [],
   "source": [
    "collection = db['taps']\n",
    "date = dt.datetime.now().strftime('%x')\n",
    "for x in unique_taps:\n",
    "    df = merge[merge['BrandName'] == x]\n",
    "    obj = {\n",
    "        'date': str(date),\n",
    "        'popular_tap':str(popular_tap),\n",
    "        'popular_brewery':str(popular_brewery),\n",
    "        'total_taps':len(unique_taps),\n",
    "        'total_accounts': len(unique_id),\n",
    "        'tap':str(df['BrandName'].iloc[0]),\n",
    "        'brewery':str(df['BreweryName'].iloc[0]),\n",
    "        'locations': []\n",
    "    }\n",
    "    unique_locations = df['LocationID'].unique()\n",
    "    for y in unique_locations:\n",
    "        tf = df[df['LocationID'] == y]\n",
    "        \n",
    "        locations = {\n",
    "        'id': int(tf['LocationID'].iloc[0]),\n",
    "        'location':str(tf['Location'].iloc[0]),\n",
    "        'address':str(tf['Address'].iloc[0]),\n",
    "        'city':str(tf['City'].iloc[0]),\n",
    "        'zipcode':int(tf['ZIP'].iloc[0]),\n",
    "        'state':str(tf['state'].iloc[0]),\n",
    "        'lat':float(tf[' Latitude'].iloc[0]),\n",
    "        'lng':float(tf[' Longitude'].iloc[0]),\n",
    "            \n",
    "        }\n",
    "        obj['locations'].append(locations)\n",
    "    id = collection.insert_one(obj).inserted_id\n",
    "\n"
   ]
  },
  {
   "cell_type": "code",
   "execution_count": 17,
   "metadata": {},
   "outputs": [
    {
     "data": {
      "text/plain": [
       "{'date': '03/12/20',\n",
       " 'tap': 'Revision Project Humulus Lupulus',\n",
       " 'brewery': 'Revision',\n",
       " 'locations': [{'id': 4921,\n",
       "   'location': 'Zocalo Mexican (Sacramento/Capitol)',\n",
       "   'address': '1801 Capitol Ave',\n",
       "   'city': 'Sacramento',\n",
       "   'zipcode': 95811,\n",
       "   'state': 'CA',\n",
       "   'lat': 38.57418,\n",
       "   'lng': -121.4838}]}"
      ]
     },
     "execution_count": 17,
     "metadata": {},
     "output_type": "execute_result"
    }
   ],
   "source": [
    "obj"
   ]
  },
  {
   "cell_type": "code",
   "execution_count": null,
   "metadata": {},
   "outputs": [],
   "source": []
  }
 ],
 "metadata": {
  "kernelspec": {
   "display_name": "Python 3",
   "language": "python",
   "name": "python3"
  },
  "language_info": {
   "codemirror_mode": {
    "name": "ipython",
    "version": 3
   },
   "file_extension": ".py",
   "mimetype": "text/x-python",
   "name": "python",
   "nbconvert_exporter": "python",
   "pygments_lexer": "ipython3",
   "version": "3.8.2"
  }
 },
 "nbformat": 4,
 "nbformat_minor": 2
}
