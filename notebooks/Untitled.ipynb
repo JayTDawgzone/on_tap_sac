{
 "cells": [
  {
   "cell_type": "code",
   "execution_count": 6,
   "metadata": {},
   "outputs": [],
   "source": [
    "import pandas as pd\n",
    "import numpy as np\n",
    "import pymongo\n",
    "import dns\n",
    "import datetime as dt"
   ]
  },
  {
   "cell_type": "code",
   "execution_count": 7,
   "metadata": {},
   "outputs": [],
   "source": [
    "coordinates_file = '../data/coordinates.csv'\n",
    "data_file = '../data/raw_data.xlsx'"
   ]
  },
  {
   "cell_type": "code",
   "execution_count": 8,
   "metadata": {},
   "outputs": [],
   "source": [
    "data = pd.read_excel(data_file)\n",
    "coordinates = pd.read_csv(coordinates_file)"
   ]
  },
  {
   "cell_type": "code",
   "execution_count": 4,
   "metadata": {},
   "outputs": [
    {
     "ename": "InvalidURI",
     "evalue": "The empty string is not valid username.",
     "output_type": "error",
     "traceback": [
      "\u001b[1;31m---------------------------------------------------------------------------\u001b[0m",
      "\u001b[1;31mInvalidURI\u001b[0m                                Traceback (most recent call last)",
      "\u001b[1;32m<ipython-input-4-7c0822bc08b1>\u001b[0m in \u001b[0;36m<module>\u001b[1;34m\u001b[0m\n\u001b[0;32m      2\u001b[0m \u001b[0mpassword\u001b[0m \u001b[1;33m=\u001b[0m \u001b[1;34m''\u001b[0m\u001b[1;33m\u001b[0m\u001b[1;33m\u001b[0m\u001b[0m\n\u001b[0;32m      3\u001b[0m \u001b[0mconn\u001b[0m \u001b[1;33m=\u001b[0m \u001b[1;34m'mongodb+srv://'\u001b[0m \u001b[1;33m+\u001b[0m \u001b[0musername\u001b[0m \u001b[1;33m+\u001b[0m\u001b[1;34m':'\u001b[0m \u001b[1;33m+\u001b[0m \u001b[0mpassword\u001b[0m \u001b[1;33m+\u001b[0m \u001b[1;34m'@cluster0-paegd.mongodb.net/test?retryWrites=true&w=majority'\u001b[0m\u001b[1;33m\u001b[0m\u001b[1;33m\u001b[0m\u001b[0m\n\u001b[1;32m----> 4\u001b[1;33m \u001b[0mclient\u001b[0m \u001b[1;33m=\u001b[0m \u001b[0mpymongo\u001b[0m\u001b[1;33m.\u001b[0m\u001b[0mMongoClient\u001b[0m\u001b[1;33m(\u001b[0m\u001b[0mconn\u001b[0m\u001b[1;33m)\u001b[0m\u001b[1;33m\u001b[0m\u001b[1;33m\u001b[0m\u001b[0m\n\u001b[0m\u001b[0;32m      5\u001b[0m \u001b[0mdb\u001b[0m \u001b[1;33m=\u001b[0m \u001b[0mclient\u001b[0m\u001b[1;33m[\u001b[0m\u001b[1;34m'beer_db'\u001b[0m\u001b[1;33m]\u001b[0m\u001b[1;33m\u001b[0m\u001b[1;33m\u001b[0m\u001b[0m\n",
      "\u001b[1;32m~\\Anaconda3\\lib\\site-packages\\pymongo\\mongo_client.py\u001b[0m in \u001b[0;36m__init__\u001b[1;34m(self, host, port, document_class, tz_aware, connect, type_registry, **kwargs)\u001b[0m\n\u001b[0;32m    619\u001b[0m                 res = uri_parser.parse_uri(\n\u001b[0;32m    620\u001b[0m                     \u001b[0mentity\u001b[0m\u001b[1;33m,\u001b[0m \u001b[0mport\u001b[0m\u001b[1;33m,\u001b[0m \u001b[0mvalidate\u001b[0m\u001b[1;33m=\u001b[0m\u001b[1;32mTrue\u001b[0m\u001b[1;33m,\u001b[0m \u001b[0mwarn\u001b[0m\u001b[1;33m=\u001b[0m\u001b[1;32mTrue\u001b[0m\u001b[1;33m,\u001b[0m \u001b[0mnormalize\u001b[0m\u001b[1;33m=\u001b[0m\u001b[1;32mFalse\u001b[0m\u001b[1;33m,\u001b[0m\u001b[1;33m\u001b[0m\u001b[1;33m\u001b[0m\u001b[0m\n\u001b[1;32m--> 621\u001b[1;33m                     connect_timeout=timeout)\n\u001b[0m\u001b[0;32m    622\u001b[0m                 \u001b[0mseeds\u001b[0m\u001b[1;33m.\u001b[0m\u001b[0mupdate\u001b[0m\u001b[1;33m(\u001b[0m\u001b[0mres\u001b[0m\u001b[1;33m[\u001b[0m\u001b[1;34m\"nodelist\"\u001b[0m\u001b[1;33m]\u001b[0m\u001b[1;33m)\u001b[0m\u001b[1;33m\u001b[0m\u001b[1;33m\u001b[0m\u001b[0m\n\u001b[0;32m    623\u001b[0m                 \u001b[0musername\u001b[0m \u001b[1;33m=\u001b[0m \u001b[0mres\u001b[0m\u001b[1;33m[\u001b[0m\u001b[1;34m\"username\"\u001b[0m\u001b[1;33m]\u001b[0m \u001b[1;32mor\u001b[0m \u001b[0musername\u001b[0m\u001b[1;33m\u001b[0m\u001b[1;33m\u001b[0m\u001b[0m\n",
      "\u001b[1;32m~\\Anaconda3\\lib\\site-packages\\pymongo\\uri_parser.py\u001b[0m in \u001b[0;36mparse_uri\u001b[1;34m(uri, default_port, validate, warn, normalize, connect_timeout)\u001b[0m\n\u001b[0;32m    435\u001b[0m     \u001b[1;32mif\u001b[0m \u001b[1;34m'@'\u001b[0m \u001b[1;32min\u001b[0m \u001b[0mhost_part\u001b[0m\u001b[1;33m:\u001b[0m\u001b[1;33m\u001b[0m\u001b[1;33m\u001b[0m\u001b[0m\n\u001b[0;32m    436\u001b[0m         \u001b[0muserinfo\u001b[0m\u001b[1;33m,\u001b[0m \u001b[0m_\u001b[0m\u001b[1;33m,\u001b[0m \u001b[0mhosts\u001b[0m \u001b[1;33m=\u001b[0m \u001b[0mhost_part\u001b[0m\u001b[1;33m.\u001b[0m\u001b[0mrpartition\u001b[0m\u001b[1;33m(\u001b[0m\u001b[1;34m'@'\u001b[0m\u001b[1;33m)\u001b[0m\u001b[1;33m\u001b[0m\u001b[1;33m\u001b[0m\u001b[0m\n\u001b[1;32m--> 437\u001b[1;33m         \u001b[0muser\u001b[0m\u001b[1;33m,\u001b[0m \u001b[0mpasswd\u001b[0m \u001b[1;33m=\u001b[0m \u001b[0mparse_userinfo\u001b[0m\u001b[1;33m(\u001b[0m\u001b[0muserinfo\u001b[0m\u001b[1;33m)\u001b[0m\u001b[1;33m\u001b[0m\u001b[1;33m\u001b[0m\u001b[0m\n\u001b[0m\u001b[0;32m    438\u001b[0m     \u001b[1;32melse\u001b[0m\u001b[1;33m:\u001b[0m\u001b[1;33m\u001b[0m\u001b[1;33m\u001b[0m\u001b[0m\n\u001b[0;32m    439\u001b[0m         \u001b[0mhosts\u001b[0m \u001b[1;33m=\u001b[0m \u001b[0mhost_part\u001b[0m\u001b[1;33m\u001b[0m\u001b[1;33m\u001b[0m\u001b[0m\n",
      "\u001b[1;32m~\\Anaconda3\\lib\\site-packages\\pymongo\\uri_parser.py\u001b[0m in \u001b[0;36mparse_userinfo\u001b[1;34m(userinfo)\u001b[0m\n\u001b[0;32m     63\u001b[0m     \u001b[1;31m# No password is expected with GSSAPI authentication.\u001b[0m\u001b[1;33m\u001b[0m\u001b[1;33m\u001b[0m\u001b[1;33m\u001b[0m\u001b[0m\n\u001b[0;32m     64\u001b[0m     \u001b[1;32mif\u001b[0m \u001b[1;32mnot\u001b[0m \u001b[0muser\u001b[0m\u001b[1;33m:\u001b[0m\u001b[1;33m\u001b[0m\u001b[1;33m\u001b[0m\u001b[0m\n\u001b[1;32m---> 65\u001b[1;33m         \u001b[1;32mraise\u001b[0m \u001b[0mInvalidURI\u001b[0m\u001b[1;33m(\u001b[0m\u001b[1;34m\"The empty string is not valid username.\"\u001b[0m\u001b[1;33m)\u001b[0m\u001b[1;33m\u001b[0m\u001b[1;33m\u001b[0m\u001b[0m\n\u001b[0m\u001b[0;32m     66\u001b[0m     \u001b[1;32mreturn\u001b[0m \u001b[0munquote_plus\u001b[0m\u001b[1;33m(\u001b[0m\u001b[0muser\u001b[0m\u001b[1;33m)\u001b[0m\u001b[1;33m,\u001b[0m \u001b[0munquote_plus\u001b[0m\u001b[1;33m(\u001b[0m\u001b[0mpasswd\u001b[0m\u001b[1;33m)\u001b[0m\u001b[1;33m\u001b[0m\u001b[1;33m\u001b[0m\u001b[0m\n\u001b[0;32m     67\u001b[0m \u001b[1;33m\u001b[0m\u001b[0m\n",
      "\u001b[1;31mInvalidURI\u001b[0m: The empty string is not valid username."
     ]
    }
   ],
   "source": [
    "username = ''\n",
    "password = ''\n",
    "conn = 'mongodb+srv://' + username +':' + password + '@cluster0-paegd.mongodb.net/test?retryWrites=true&w=majority'\n",
    "client = pymongo.MongoClient(conn)\n",
    "db = client['beer_db']\n"
   ]
  },
  {
   "cell_type": "code",
   "execution_count": 9,
   "metadata": {},
   "outputs": [],
   "source": [
    "data.drop(['ServiceCenter', 'Zone', 'AccNumber', 'SystemName', 'StationName', 'TowerID', 'TowerSortOrder', 'FaucetCount', 'Distributor', 'Technician', 'DayOfService', 'TripTitle','TripCancelReason'], axis=1,inplace=True)"
   ]
  },
  {
   "cell_type": "code",
   "execution_count": 10,
   "metadata": {},
   "outputs": [],
   "source": [
    "coordinates.columns.values[0] = \"LocationID\""
   ]
  },
  {
   "cell_type": "code",
   "execution_count": 11,
   "metadata": {},
   "outputs": [],
   "source": [
    "merge = pd.merge(data, coordinates, how='left', on='LocationID')"
   ]
  },
  {
   "cell_type": "code",
   "execution_count": null,
   "metadata": {},
   "outputs": [],
   "source": []
  },
  {
   "cell_type": "code",
   "execution_count": 12,
   "metadata": {},
   "outputs": [],
   "source": [
    "merge.dropna(inplace=True)"
   ]
  },
  {
   "cell_type": "code",
   "execution_count": 13,
   "metadata": {},
   "outputs": [],
   "source": [
    "merge['Location'] = merge['Location'].str.replace('.','')\n",
    "merge['BreweryName'] = merge['BreweryName'].str.replace('.','')\n",
    "merge['Address'] = merge['Address'].str.replace('.','')\n",
    "merge['BrandName'] = merge['BrandName'].str.replace('.','')\n",
    "merge['Location'] = merge['Location'].str.replace('2M - ','')\n",
    "merge['Location'] = merge['Location'].str.replace('NP - ','')\n",
    "merge['Location'] = merge['Location'].str.replace('OOB - ','')\n",
    "merge['Location'] = merge['Location'].str.replace('Duplicate - ','')\n",
    "merge['Location'] = merge['Location'].str.replace('BO - ','')\n",
    "merge['Location'] = merge['Location'].str.replace('TC - ','')\n",
    "merge['Location'] = merge['Location'].str.replace('Seasonal - ','')"
   ]
  },
  {
   "cell_type": "code",
   "execution_count": 14,
   "metadata": {},
   "outputs": [
    {
     "data": {
      "text/html": [
       "<div>\n",
       "<style scoped>\n",
       "    .dataframe tbody tr th:only-of-type {\n",
       "        vertical-align: middle;\n",
       "    }\n",
       "\n",
       "    .dataframe tbody tr th {\n",
       "        vertical-align: top;\n",
       "    }\n",
       "\n",
       "    .dataframe thead th {\n",
       "        text-align: right;\n",
       "    }\n",
       "</style>\n",
       "<table border=\"1\" class=\"dataframe\">\n",
       "  <thead>\n",
       "    <tr style=\"text-align: right;\">\n",
       "      <th></th>\n",
       "      <th>LocationID</th>\n",
       "      <th>Location</th>\n",
       "      <th>Address</th>\n",
       "      <th>City</th>\n",
       "      <th>ZIP</th>\n",
       "      <th>state</th>\n",
       "      <th>BrandName</th>\n",
       "      <th>BreweryName</th>\n",
       "      <th>Active Recurring Trip</th>\n",
       "      <th>Service Location - Description</th>\n",
       "      <th>Service Location - Address Line 1</th>\n",
       "      <th>Service Location - City</th>\n",
       "      <th>Service Location - Postal Code</th>\n",
       "      <th>Service Location - State</th>\n",
       "      <th>Latitude</th>\n",
       "      <th>Longitude</th>\n",
       "    </tr>\n",
       "  </thead>\n",
       "  <tbody>\n",
       "    <tr>\n",
       "      <th>178</th>\n",
       "      <td>2997</td>\n",
       "      <td>19 Handles (Sacramento/Arden)</td>\n",
       "      <td>4235 Arden Way</td>\n",
       "      <td>Sacramento</td>\n",
       "      <td>95864.0</td>\n",
       "      <td>CA</td>\n",
       "      <td>Alaskan Hopothermia</td>\n",
       "      <td>Alaskan Brewing Co</td>\n",
       "      <td>1</td>\n",
       "      <td>19 Handles (Sacramento/Arden)</td>\n",
       "      <td>4235 Arden Way</td>\n",
       "      <td>Sacramento</td>\n",
       "      <td>95864.0</td>\n",
       "      <td>CA</td>\n",
       "      <td>38.595658</td>\n",
       "      <td>-121.365601</td>\n",
       "    </tr>\n",
       "    <tr>\n",
       "      <th>179</th>\n",
       "      <td>2997</td>\n",
       "      <td>19 Handles (Sacramento/Arden)</td>\n",
       "      <td>4235 Arden Way</td>\n",
       "      <td>Sacramento</td>\n",
       "      <td>95864.0</td>\n",
       "      <td>CA</td>\n",
       "      <td>Anderson Valley Boont Amber Ale</td>\n",
       "      <td>Anderson Valley</td>\n",
       "      <td>1</td>\n",
       "      <td>19 Handles (Sacramento/Arden)</td>\n",
       "      <td>4235 Arden Way</td>\n",
       "      <td>Sacramento</td>\n",
       "      <td>95864.0</td>\n",
       "      <td>CA</td>\n",
       "      <td>38.595658</td>\n",
       "      <td>-121.365601</td>\n",
       "    </tr>\n",
       "    <tr>\n",
       "      <th>180</th>\n",
       "      <td>2997</td>\n",
       "      <td>19 Handles (Sacramento/Arden)</td>\n",
       "      <td>4235 Arden Way</td>\n",
       "      <td>Sacramento</td>\n",
       "      <td>95864.0</td>\n",
       "      <td>CA</td>\n",
       "      <td>Angry Orchard</td>\n",
       "      <td>Boston Beer Co</td>\n",
       "      <td>1</td>\n",
       "      <td>19 Handles (Sacramento/Arden)</td>\n",
       "      <td>4235 Arden Way</td>\n",
       "      <td>Sacramento</td>\n",
       "      <td>95864.0</td>\n",
       "      <td>CA</td>\n",
       "      <td>38.595658</td>\n",
       "      <td>-121.365601</td>\n",
       "    </tr>\n",
       "    <tr>\n",
       "      <th>181</th>\n",
       "      <td>2997</td>\n",
       "      <td>19 Handles (Sacramento/Arden)</td>\n",
       "      <td>4235 Arden Way</td>\n",
       "      <td>Sacramento</td>\n",
       "      <td>95864.0</td>\n",
       "      <td>CA</td>\n",
       "      <td>Ballast Point Sculpin IPA</td>\n",
       "      <td>Constellation Brands</td>\n",
       "      <td>1</td>\n",
       "      <td>19 Handles (Sacramento/Arden)</td>\n",
       "      <td>4235 Arden Way</td>\n",
       "      <td>Sacramento</td>\n",
       "      <td>95864.0</td>\n",
       "      <td>CA</td>\n",
       "      <td>38.595658</td>\n",
       "      <td>-121.365601</td>\n",
       "    </tr>\n",
       "    <tr>\n",
       "      <th>182</th>\n",
       "      <td>2997</td>\n",
       "      <td>19 Handles (Sacramento/Arden)</td>\n",
       "      <td>4235 Arden Way</td>\n",
       "      <td>Sacramento</td>\n",
       "      <td>95864.0</td>\n",
       "      <td>CA</td>\n",
       "      <td>Bear Republic Thru The Haze</td>\n",
       "      <td>Bear Republic Brewing Co</td>\n",
       "      <td>1</td>\n",
       "      <td>19 Handles (Sacramento/Arden)</td>\n",
       "      <td>4235 Arden Way</td>\n",
       "      <td>Sacramento</td>\n",
       "      <td>95864.0</td>\n",
       "      <td>CA</td>\n",
       "      <td>38.595658</td>\n",
       "      <td>-121.365601</td>\n",
       "    </tr>\n",
       "  </tbody>\n",
       "</table>\n",
       "</div>"
      ],
      "text/plain": [
       "     LocationID                       Location         Address        City  \\\n",
       "178        2997  19 Handles (Sacramento/Arden)  4235 Arden Way  Sacramento   \n",
       "179        2997  19 Handles (Sacramento/Arden)  4235 Arden Way  Sacramento   \n",
       "180        2997  19 Handles (Sacramento/Arden)  4235 Arden Way  Sacramento   \n",
       "181        2997  19 Handles (Sacramento/Arden)  4235 Arden Way  Sacramento   \n",
       "182        2997  19 Handles (Sacramento/Arden)  4235 Arden Way  Sacramento   \n",
       "\n",
       "         ZIP state                        BrandName               BreweryName  \\\n",
       "178  95864.0    CA              Alaskan Hopothermia        Alaskan Brewing Co   \n",
       "179  95864.0    CA  Anderson Valley Boont Amber Ale           Anderson Valley   \n",
       "180  95864.0    CA                    Angry Orchard            Boston Beer Co   \n",
       "181  95864.0    CA        Ballast Point Sculpin IPA      Constellation Brands   \n",
       "182  95864.0    CA      Bear Republic Thru The Haze  Bear Republic Brewing Co   \n",
       "\n",
       "     Active Recurring Trip  Service Location - Description  \\\n",
       "178                      1   19 Handles (Sacramento/Arden)   \n",
       "179                      1   19 Handles (Sacramento/Arden)   \n",
       "180                      1   19 Handles (Sacramento/Arden)   \n",
       "181                      1   19 Handles (Sacramento/Arden)   \n",
       "182                      1   19 Handles (Sacramento/Arden)   \n",
       "\n",
       "     Service Location - Address Line 1  Service Location - City  \\\n",
       "178                     4235 Arden Way               Sacramento   \n",
       "179                     4235 Arden Way               Sacramento   \n",
       "180                     4235 Arden Way               Sacramento   \n",
       "181                     4235 Arden Way               Sacramento   \n",
       "182                     4235 Arden Way               Sacramento   \n",
       "\n",
       "      Service Location - Postal Code  Service Location - State   Latitude  \\\n",
       "178                          95864.0                        CA  38.595658   \n",
       "179                          95864.0                        CA  38.595658   \n",
       "180                          95864.0                        CA  38.595658   \n",
       "181                          95864.0                        CA  38.595658   \n",
       "182                          95864.0                        CA  38.595658   \n",
       "\n",
       "      Longitude  \n",
       "178 -121.365601  \n",
       "179 -121.365601  \n",
       "180 -121.365601  \n",
       "181 -121.365601  \n",
       "182 -121.365601  "
      ]
     },
     "execution_count": 14,
     "metadata": {},
     "output_type": "execute_result"
    }
   ],
   "source": [
    "merge.head()"
   ]
  },
  {
   "cell_type": "code",
   "execution_count": 119,
   "metadata": {},
   "outputs": [],
   "source": [
    "unique_id = merge['LocationID'].unique()"
   ]
  },
  {
   "cell_type": "code",
   "execution_count": 131,
   "metadata": {},
   "outputs": [],
   "source": [
    "collection = db['accounts']\n",
    "date = dt.datetime.now().strftime('%x')\n",
    "\n",
    "\n",
    "for x in unique_id:\n",
    "    df = merge[merge['LocationID'] == x]\n",
    "    obj = {\n",
    "        'date': str(date),\n",
    "        'id':int(df['LocationID'].iloc[0]),\n",
    "        'location':str(df['Location'].iloc[0]),\n",
    "        'address':str(df['Address'].iloc[0]),\n",
    "        'city':str(df['City'].iloc[0]),\n",
    "        'zipcode':int(df['ZIP'].iloc[0]),\n",
    "        'state':str(df['state'].iloc[0]),\n",
    "        'lat':float(df[' Latitude'].iloc[0]),\n",
    "        'lng':float(df[' Longitude'].iloc[0]),\n",
    "        'taps': []\n",
    "    }\n",
    "    for index, row in df.iterrows():\n",
    "        taps = {row['BreweryName']: row['BrandName']}\n",
    "        obj['taps'].append(taps)\n",
    "\n",
    "    id = collection.insert_one(obj).inserted_id"
   ]
  },
  {
   "cell_type": "code",
   "execution_count": 15,
   "metadata": {},
   "outputs": [],
   "source": [
    "unique_taps = merge['BrandName'].unique()"
   ]
  },
  {
   "cell_type": "code",
   "execution_count": 16,
   "metadata": {
    "scrolled": true
   },
   "outputs": [],
   "source": [
    "# collection = db['taps']\n",
    "date = dt.datetime.now().strftime('%x')\n",
    "for x in unique_taps:\n",
    "    df = merge[merge['BrandName'] == x]\n",
    "    obj = {\n",
    "        'date': str(date),\n",
    "        'tap':str(df['BrandName'].iloc[0]),\n",
    "        'brewery':str(df['BreweryName'].iloc[0]),\n",
    "        'locations': []\n",
    "    }\n",
    "    unique_locations = df['LocationID'].unique()\n",
    "    for y in unique_locations:\n",
    "        tf = df[df['LocationID'] == y]\n",
    "        \n",
    "        locations = {\n",
    "        'id': int(tf['LocationID'].iloc[0]),\n",
    "        'location':str(tf['Location'].iloc[0]),\n",
    "        'address':str(tf['Address'].iloc[0]),\n",
    "        'city':str(tf['City'].iloc[0]),\n",
    "        'zipcode':int(tf['ZIP'].iloc[0]),\n",
    "        'state':str(tf['state'].iloc[0]),\n",
    "        'lat':float(tf[' Latitude'].iloc[0]),\n",
    "        'lng':float(tf[' Longitude'].iloc[0]),\n",
    "            \n",
    "        }\n",
    "        obj['locations'].append(locations)\n",
    "#     id = collection.insert_one(obj).inserted_id\n",
    "\n"
   ]
  },
  {
   "cell_type": "code",
   "execution_count": 17,
   "metadata": {},
   "outputs": [
    {
     "data": {
      "text/plain": [
       "{'date': '03/12/20',\n",
       " 'tap': 'Revision Project Humulus Lupulus',\n",
       " 'brewery': 'Revision',\n",
       " 'locations': [{'id': 4921,\n",
       "   'location': 'Zocalo Mexican (Sacramento/Capitol)',\n",
       "   'address': '1801 Capitol Ave',\n",
       "   'city': 'Sacramento',\n",
       "   'zipcode': 95811,\n",
       "   'state': 'CA',\n",
       "   'lat': 38.57418,\n",
       "   'lng': -121.4838}]}"
      ]
     },
     "execution_count": 17,
     "metadata": {},
     "output_type": "execute_result"
    }
   ],
   "source": [
    "obj"
   ]
  },
  {
   "cell_type": "code",
   "execution_count": null,
   "metadata": {},
   "outputs": [],
   "source": []
  }
 ],
 "metadata": {
  "kernelspec": {
   "display_name": "Python 3",
   "language": "python",
   "name": "python3"
  },
  "language_info": {
   "codemirror_mode": {
    "name": "ipython",
    "version": 3
   },
   "file_extension": ".py",
   "mimetype": "text/x-python",
   "name": "python",
   "nbconvert_exporter": "python",
   "pygments_lexer": "ipython3",
   "version": "3.7.3"
  }
 },
 "nbformat": 4,
 "nbformat_minor": 2
}
